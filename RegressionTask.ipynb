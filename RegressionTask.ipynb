{
  "nbformat": 4,
  "nbformat_minor": 0,
  "metadata": {
    "colab": {
      "provenance": []
    },
    "kernelspec": {
      "name": "python3",
      "display_name": "Python 3"
    },
    "language_info": {
      "name": "python"
    }
  },
  "cells": [
    {
      "cell_type": "code",
      "execution_count": null,
      "metadata": {
        "id": "hYIJeqtnd2og"
      },
      "outputs": [],
      "source": [
        "import pandas as pd\n",
        "import numpy as np\n",
        "import seaborn as sns\n",
        "from sklearn.model_selection import train_test_split, GridSearchCV\n",
        "from sklearn.preprocessing import StandardScaler\n",
        "from sklearn.linear_model import LinearRegression, Ridge, Lasso\n",
        "from sklearn.metrics import mean_absolute_error, mean_squared_error, r2_score\n",
        "import matplotlib.pyplot as plt\n",
        "from sklearn.feature_selection import SelectKBest, f_regression\n",
        "\n",
        "cars_data= pd.read_csv(\"/content/drive/MyDrive/Final Assessment AI/The Ultimate Cars Dataset 2024.csv\", encoding='latin1')"
      ]
    },
    {
      "cell_type": "code",
      "source": [
        "print(\"Top 5 datas:\\n\")\n",
        "display(cars_data.head(5))"
      ],
      "metadata": {
        "colab": {
          "base_uri": "https://localhost:8080/",
          "height": 293
        },
        "id": "HxfYU6nPeX3m",
        "outputId": "e11d8ad8-28cb-49e9-a162-1f926c86b923"
      },
      "execution_count": null,
      "outputs": [
        {
          "output_type": "stream",
          "name": "stdout",
          "text": [
            "Top 5 datas:\n",
            "\n"
          ]
        },
        {
          "output_type": "display_data",
          "data": {
            "text/plain": [
              "  Company Names     Cars Names      Engines CC/Battery Capacity HorsePower  \\\n",
              "0       FERRARI  SF90 STRADALE           V8             3990 cc     963 hp   \n",
              "1   ROLLS ROYCE        PHANTOM          V12             6749 cc     563 hp   \n",
              "2          Ford            KA+  1.2L Petrol            1,200 cc   70-85 hp   \n",
              "3      MERCEDES        GT 63 S           V8            3,982 cc     630 hp   \n",
              "4          AUDI     AUDI R8 Gt          V10            5,204 cc     602 hp   \n",
              "\n",
              "  Total Speed Performance(0 - 100 )KM/H      Cars Prices       Fuel Types  \\\n",
              "0    340 km/h                   2.5 sec      $1,100,000   plug in hyrbrid   \n",
              "1    250 km/h                   5.3 sec        $460,000            Petrol   \n",
              "2    165 km/h                  10.5 sec  $12,000-$15,000           Petrol   \n",
              "3    250 km/h                   3.2 sec        $161,000            Petrol   \n",
              "4    320 km/h                   3.6 sec        $253,290            Petrol   \n",
              "\n",
              "  Seats        Torque  \n",
              "0     2        800 Nm  \n",
              "1     5        900 Nm  \n",
              "2     5  100 - 140 Nm  \n",
              "3     4        900 Nm  \n",
              "4     2        560 Nm  "
            ],
            "text/html": [
              "\n",
              "  <div id=\"df-717c5af5-6762-4ac0-98e2-bb7e4d66f86b\" class=\"colab-df-container\">\n",
              "    <div>\n",
              "<style scoped>\n",
              "    .dataframe tbody tr th:only-of-type {\n",
              "        vertical-align: middle;\n",
              "    }\n",
              "\n",
              "    .dataframe tbody tr th {\n",
              "        vertical-align: top;\n",
              "    }\n",
              "\n",
              "    .dataframe thead th {\n",
              "        text-align: right;\n",
              "    }\n",
              "</style>\n",
              "<table border=\"1\" class=\"dataframe\">\n",
              "  <thead>\n",
              "    <tr style=\"text-align: right;\">\n",
              "      <th></th>\n",
              "      <th>Company Names</th>\n",
              "      <th>Cars Names</th>\n",
              "      <th>Engines</th>\n",
              "      <th>CC/Battery Capacity</th>\n",
              "      <th>HorsePower</th>\n",
              "      <th>Total Speed</th>\n",
              "      <th>Performance(0 - 100 )KM/H</th>\n",
              "      <th>Cars Prices</th>\n",
              "      <th>Fuel Types</th>\n",
              "      <th>Seats</th>\n",
              "      <th>Torque</th>\n",
              "    </tr>\n",
              "  </thead>\n",
              "  <tbody>\n",
              "    <tr>\n",
              "      <th>0</th>\n",
              "      <td>FERRARI</td>\n",
              "      <td>SF90 STRADALE</td>\n",
              "      <td>V8</td>\n",
              "      <td>3990 cc</td>\n",
              "      <td>963 hp</td>\n",
              "      <td>340 km/h</td>\n",
              "      <td>2.5 sec</td>\n",
              "      <td>$1,100,000</td>\n",
              "      <td>plug in hyrbrid</td>\n",
              "      <td>2</td>\n",
              "      <td>800 Nm</td>\n",
              "    </tr>\n",
              "    <tr>\n",
              "      <th>1</th>\n",
              "      <td>ROLLS ROYCE</td>\n",
              "      <td>PHANTOM</td>\n",
              "      <td>V12</td>\n",
              "      <td>6749 cc</td>\n",
              "      <td>563 hp</td>\n",
              "      <td>250 km/h</td>\n",
              "      <td>5.3 sec</td>\n",
              "      <td>$460,000</td>\n",
              "      <td>Petrol</td>\n",
              "      <td>5</td>\n",
              "      <td>900 Nm</td>\n",
              "    </tr>\n",
              "    <tr>\n",
              "      <th>2</th>\n",
              "      <td>Ford</td>\n",
              "      <td>KA+</td>\n",
              "      <td>1.2L Petrol</td>\n",
              "      <td>1,200 cc</td>\n",
              "      <td>70-85 hp</td>\n",
              "      <td>165 km/h</td>\n",
              "      <td>10.5 sec</td>\n",
              "      <td>$12,000-$15,000</td>\n",
              "      <td>Petrol</td>\n",
              "      <td>5</td>\n",
              "      <td>100 - 140 Nm</td>\n",
              "    </tr>\n",
              "    <tr>\n",
              "      <th>3</th>\n",
              "      <td>MERCEDES</td>\n",
              "      <td>GT 63 S</td>\n",
              "      <td>V8</td>\n",
              "      <td>3,982 cc</td>\n",
              "      <td>630 hp</td>\n",
              "      <td>250 km/h</td>\n",
              "      <td>3.2 sec</td>\n",
              "      <td>$161,000</td>\n",
              "      <td>Petrol</td>\n",
              "      <td>4</td>\n",
              "      <td>900 Nm</td>\n",
              "    </tr>\n",
              "    <tr>\n",
              "      <th>4</th>\n",
              "      <td>AUDI</td>\n",
              "      <td>AUDI R8 Gt</td>\n",
              "      <td>V10</td>\n",
              "      <td>5,204 cc</td>\n",
              "      <td>602 hp</td>\n",
              "      <td>320 km/h</td>\n",
              "      <td>3.6 sec</td>\n",
              "      <td>$253,290</td>\n",
              "      <td>Petrol</td>\n",
              "      <td>2</td>\n",
              "      <td>560 Nm</td>\n",
              "    </tr>\n",
              "  </tbody>\n",
              "</table>\n",
              "</div>\n",
              "    <div class=\"colab-df-buttons\">\n",
              "\n",
              "  <div class=\"colab-df-container\">\n",
              "    <button class=\"colab-df-convert\" onclick=\"convertToInteractive('df-717c5af5-6762-4ac0-98e2-bb7e4d66f86b')\"\n",
              "            title=\"Convert this dataframe to an interactive table.\"\n",
              "            style=\"display:none;\">\n",
              "\n",
              "  <svg xmlns=\"http://www.w3.org/2000/svg\" height=\"24px\" viewBox=\"0 -960 960 960\">\n",
              "    <path d=\"M120-120v-720h720v720H120Zm60-500h600v-160H180v160Zm220 220h160v-160H400v160Zm0 220h160v-160H400v160ZM180-400h160v-160H180v160Zm440 0h160v-160H620v160ZM180-180h160v-160H180v160Zm440 0h160v-160H620v160Z\"/>\n",
              "  </svg>\n",
              "    </button>\n",
              "\n",
              "  <style>\n",
              "    .colab-df-container {\n",
              "      display:flex;\n",
              "      gap: 12px;\n",
              "    }\n",
              "\n",
              "    .colab-df-convert {\n",
              "      background-color: #E8F0FE;\n",
              "      border: none;\n",
              "      border-radius: 50%;\n",
              "      cursor: pointer;\n",
              "      display: none;\n",
              "      fill: #1967D2;\n",
              "      height: 32px;\n",
              "      padding: 0 0 0 0;\n",
              "      width: 32px;\n",
              "    }\n",
              "\n",
              "    .colab-df-convert:hover {\n",
              "      background-color: #E2EBFA;\n",
              "      box-shadow: 0px 1px 2px rgba(60, 64, 67, 0.3), 0px 1px 3px 1px rgba(60, 64, 67, 0.15);\n",
              "      fill: #174EA6;\n",
              "    }\n",
              "\n",
              "    .colab-df-buttons div {\n",
              "      margin-bottom: 4px;\n",
              "    }\n",
              "\n",
              "    [theme=dark] .colab-df-convert {\n",
              "      background-color: #3B4455;\n",
              "      fill: #D2E3FC;\n",
              "    }\n",
              "\n",
              "    [theme=dark] .colab-df-convert:hover {\n",
              "      background-color: #434B5C;\n",
              "      box-shadow: 0px 1px 3px 1px rgba(0, 0, 0, 0.15);\n",
              "      filter: drop-shadow(0px 1px 2px rgba(0, 0, 0, 0.3));\n",
              "      fill: #FFFFFF;\n",
              "    }\n",
              "  </style>\n",
              "\n",
              "    <script>\n",
              "      const buttonEl =\n",
              "        document.querySelector('#df-717c5af5-6762-4ac0-98e2-bb7e4d66f86b button.colab-df-convert');\n",
              "      buttonEl.style.display =\n",
              "        google.colab.kernel.accessAllowed ? 'block' : 'none';\n",
              "\n",
              "      async function convertToInteractive(key) {\n",
              "        const element = document.querySelector('#df-717c5af5-6762-4ac0-98e2-bb7e4d66f86b');\n",
              "        const dataTable =\n",
              "          await google.colab.kernel.invokeFunction('convertToInteractive',\n",
              "                                                    [key], {});\n",
              "        if (!dataTable) return;\n",
              "\n",
              "        const docLinkHtml = 'Like what you see? Visit the ' +\n",
              "          '<a target=\"_blank\" href=https://colab.research.google.com/notebooks/data_table.ipynb>data table notebook</a>'\n",
              "          + ' to learn more about interactive tables.';\n",
              "        element.innerHTML = '';\n",
              "        dataTable['output_type'] = 'display_data';\n",
              "        await google.colab.output.renderOutput(dataTable, element);\n",
              "        const docLink = document.createElement('div');\n",
              "        docLink.innerHTML = docLinkHtml;\n",
              "        element.appendChild(docLink);\n",
              "      }\n",
              "    </script>\n",
              "  </div>\n",
              "\n",
              "\n",
              "<div id=\"df-20db9466-2c32-4170-abb8-cff854c43d43\">\n",
              "  <button class=\"colab-df-quickchart\" onclick=\"quickchart('df-20db9466-2c32-4170-abb8-cff854c43d43')\"\n",
              "            title=\"Suggest charts\"\n",
              "            style=\"display:none;\">\n",
              "\n",
              "<svg xmlns=\"http://www.w3.org/2000/svg\" height=\"24px\"viewBox=\"0 0 24 24\"\n",
              "     width=\"24px\">\n",
              "    <g>\n",
              "        <path d=\"M19 3H5c-1.1 0-2 .9-2 2v14c0 1.1.9 2 2 2h14c1.1 0 2-.9 2-2V5c0-1.1-.9-2-2-2zM9 17H7v-7h2v7zm4 0h-2V7h2v10zm4 0h-2v-4h2v4z\"/>\n",
              "    </g>\n",
              "</svg>\n",
              "  </button>\n",
              "\n",
              "<style>\n",
              "  .colab-df-quickchart {\n",
              "      --bg-color: #E8F0FE;\n",
              "      --fill-color: #1967D2;\n",
              "      --hover-bg-color: #E2EBFA;\n",
              "      --hover-fill-color: #174EA6;\n",
              "      --disabled-fill-color: #AAA;\n",
              "      --disabled-bg-color: #DDD;\n",
              "  }\n",
              "\n",
              "  [theme=dark] .colab-df-quickchart {\n",
              "      --bg-color: #3B4455;\n",
              "      --fill-color: #D2E3FC;\n",
              "      --hover-bg-color: #434B5C;\n",
              "      --hover-fill-color: #FFFFFF;\n",
              "      --disabled-bg-color: #3B4455;\n",
              "      --disabled-fill-color: #666;\n",
              "  }\n",
              "\n",
              "  .colab-df-quickchart {\n",
              "    background-color: var(--bg-color);\n",
              "    border: none;\n",
              "    border-radius: 50%;\n",
              "    cursor: pointer;\n",
              "    display: none;\n",
              "    fill: var(--fill-color);\n",
              "    height: 32px;\n",
              "    padding: 0;\n",
              "    width: 32px;\n",
              "  }\n",
              "\n",
              "  .colab-df-quickchart:hover {\n",
              "    background-color: var(--hover-bg-color);\n",
              "    box-shadow: 0 1px 2px rgba(60, 64, 67, 0.3), 0 1px 3px 1px rgba(60, 64, 67, 0.15);\n",
              "    fill: var(--button-hover-fill-color);\n",
              "  }\n",
              "\n",
              "  .colab-df-quickchart-complete:disabled,\n",
              "  .colab-df-quickchart-complete:disabled:hover {\n",
              "    background-color: var(--disabled-bg-color);\n",
              "    fill: var(--disabled-fill-color);\n",
              "    box-shadow: none;\n",
              "  }\n",
              "\n",
              "  .colab-df-spinner {\n",
              "    border: 2px solid var(--fill-color);\n",
              "    border-color: transparent;\n",
              "    border-bottom-color: var(--fill-color);\n",
              "    animation:\n",
              "      spin 1s steps(1) infinite;\n",
              "  }\n",
              "\n",
              "  @keyframes spin {\n",
              "    0% {\n",
              "      border-color: transparent;\n",
              "      border-bottom-color: var(--fill-color);\n",
              "      border-left-color: var(--fill-color);\n",
              "    }\n",
              "    20% {\n",
              "      border-color: transparent;\n",
              "      border-left-color: var(--fill-color);\n",
              "      border-top-color: var(--fill-color);\n",
              "    }\n",
              "    30% {\n",
              "      border-color: transparent;\n",
              "      border-left-color: var(--fill-color);\n",
              "      border-top-color: var(--fill-color);\n",
              "      border-right-color: var(--fill-color);\n",
              "    }\n",
              "    40% {\n",
              "      border-color: transparent;\n",
              "      border-right-color: var(--fill-color);\n",
              "      border-top-color: var(--fill-color);\n",
              "    }\n",
              "    60% {\n",
              "      border-color: transparent;\n",
              "      border-right-color: var(--fill-color);\n",
              "    }\n",
              "    80% {\n",
              "      border-color: transparent;\n",
              "      border-right-color: var(--fill-color);\n",
              "      border-bottom-color: var(--fill-color);\n",
              "    }\n",
              "    90% {\n",
              "      border-color: transparent;\n",
              "      border-bottom-color: var(--fill-color);\n",
              "    }\n",
              "  }\n",
              "</style>\n",
              "\n",
              "  <script>\n",
              "    async function quickchart(key) {\n",
              "      const quickchartButtonEl =\n",
              "        document.querySelector('#' + key + ' button');\n",
              "      quickchartButtonEl.disabled = true;  // To prevent multiple clicks.\n",
              "      quickchartButtonEl.classList.add('colab-df-spinner');\n",
              "      try {\n",
              "        const charts = await google.colab.kernel.invokeFunction(\n",
              "            'suggestCharts', [key], {});\n",
              "      } catch (error) {\n",
              "        console.error('Error during call to suggestCharts:', error);\n",
              "      }\n",
              "      quickchartButtonEl.classList.remove('colab-df-spinner');\n",
              "      quickchartButtonEl.classList.add('colab-df-quickchart-complete');\n",
              "    }\n",
              "    (() => {\n",
              "      let quickchartButtonEl =\n",
              "        document.querySelector('#df-20db9466-2c32-4170-abb8-cff854c43d43 button');\n",
              "      quickchartButtonEl.style.display =\n",
              "        google.colab.kernel.accessAllowed ? 'block' : 'none';\n",
              "    })();\n",
              "  </script>\n",
              "</div>\n",
              "\n",
              "    </div>\n",
              "  </div>\n"
            ],
            "application/vnd.google.colaboratory.intrinsic+json": {
              "type": "dataframe",
              "summary": "{\n  \"name\": \"display(cars_data\",\n  \"rows\": 5,\n  \"fields\": [\n    {\n      \"column\": \"Company Names\",\n      \"properties\": {\n        \"dtype\": \"string\",\n        \"num_unique_values\": 5,\n        \"samples\": [\n          \"ROLLS ROYCE\",\n          \"AUDI\",\n          \"Ford\"\n        ],\n        \"semantic_type\": \"\",\n        \"description\": \"\"\n      }\n    },\n    {\n      \"column\": \"Cars Names\",\n      \"properties\": {\n        \"dtype\": \"string\",\n        \"num_unique_values\": 5,\n        \"samples\": [\n          \"PHANTOM\",\n          \"AUDI R8 Gt\",\n          \"KA+\"\n        ],\n        \"semantic_type\": \"\",\n        \"description\": \"\"\n      }\n    },\n    {\n      \"column\": \"Engines\",\n      \"properties\": {\n        \"dtype\": \"string\",\n        \"num_unique_values\": 4,\n        \"samples\": [\n          \"V12\",\n          \"V10\",\n          \"V8\"\n        ],\n        \"semantic_type\": \"\",\n        \"description\": \"\"\n      }\n    },\n    {\n      \"column\": \"CC/Battery Capacity\",\n      \"properties\": {\n        \"dtype\": \"string\",\n        \"num_unique_values\": 5,\n        \"samples\": [\n          \"6749 cc\",\n          \"5,204 cc\",\n          \"1,200 cc\"\n        ],\n        \"semantic_type\": \"\",\n        \"description\": \"\"\n      }\n    },\n    {\n      \"column\": \"HorsePower\",\n      \"properties\": {\n        \"dtype\": \"string\",\n        \"num_unique_values\": 5,\n        \"samples\": [\n          \"563 hp\",\n          \"602 hp\",\n          \"70-85 hp\"\n        ],\n        \"semantic_type\": \"\",\n        \"description\": \"\"\n      }\n    },\n    {\n      \"column\": \"Total Speed\",\n      \"properties\": {\n        \"dtype\": \"string\",\n        \"num_unique_values\": 4,\n        \"samples\": [\n          \"250 km/h\",\n          \"320 km/h\",\n          \"340 km/h\"\n        ],\n        \"semantic_type\": \"\",\n        \"description\": \"\"\n      }\n    },\n    {\n      \"column\": \"Performance(0 - 100 )KM/H\",\n      \"properties\": {\n        \"dtype\": \"string\",\n        \"num_unique_values\": 5,\n        \"samples\": [\n          \"5.3 sec\",\n          \"3.6 sec\",\n          \"10.5 sec\"\n        ],\n        \"semantic_type\": \"\",\n        \"description\": \"\"\n      }\n    },\n    {\n      \"column\": \"Cars Prices\",\n      \"properties\": {\n        \"dtype\": \"string\",\n        \"num_unique_values\": 5,\n        \"samples\": [\n          \"$460,000 \",\n          \"$253,290 \",\n          \"$12,000-$15,000\"\n        ],\n        \"semantic_type\": \"\",\n        \"description\": \"\"\n      }\n    },\n    {\n      \"column\": \"Fuel Types\",\n      \"properties\": {\n        \"dtype\": \"category\",\n        \"num_unique_values\": 2,\n        \"samples\": [\n          \"Petrol\",\n          \"plug in hyrbrid\"\n        ],\n        \"semantic_type\": \"\",\n        \"description\": \"\"\n      }\n    },\n    {\n      \"column\": \"Seats\",\n      \"properties\": {\n        \"dtype\": \"string\",\n        \"num_unique_values\": 3,\n        \"samples\": [\n          \"2\",\n          \"5\"\n        ],\n        \"semantic_type\": \"\",\n        \"description\": \"\"\n      }\n    },\n    {\n      \"column\": \"Torque\",\n      \"properties\": {\n        \"dtype\": \"string\",\n        \"num_unique_values\": 4,\n        \"samples\": [\n          \"900 Nm\",\n          \"560 Nm\"\n        ],\n        \"semantic_type\": \"\",\n        \"description\": \"\"\n      }\n    }\n  ]\n}"
            }
          },
          "metadata": {}
        }
      ]
    },
    {
      "cell_type": "code",
      "source": [
        "# Drop N/A datas\n",
        "cars_data.dropna(inplace=True)\n",
        "print(\"Null datas:\\n\")\n",
        "print(cars_data.isnull().sum())"
      ],
      "metadata": {
        "colab": {
          "base_uri": "https://localhost:8080/"
        },
        "id": "dzH4W6fieaua",
        "outputId": "5013f5be-53d1-40b6-bf9c-0d83c38bc77b"
      },
      "execution_count": null,
      "outputs": [
        {
          "output_type": "stream",
          "name": "stdout",
          "text": [
            "Null datas:\n",
            "\n",
            "Company Names                0\n",
            "Cars Names                   0\n",
            "Engines                      0\n",
            "CC/Battery Capacity          0\n",
            "HorsePower                   0\n",
            "Total Speed                  0\n",
            "Performance(0 - 100 )KM/H    0\n",
            "Cars Prices                  0\n",
            "Fuel Types                   0\n",
            "Seats                        0\n",
            "Torque                       0\n",
            "dtype: int64\n"
          ]
        }
      ]
    },
    {
      "cell_type": "code",
      "source": [
        "# drop duplicate datas\n",
        "cars_data.drop_duplicates(inplace=True)\n",
        "print(\"Duplicate datas:\\n\")\n",
        "print(cars_data.duplicated().sum())"
      ],
      "metadata": {
        "colab": {
          "base_uri": "https://localhost:8080/"
        },
        "id": "0l1e3GauecYX",
        "outputId": "1e701e6e-5bd9-4607-90b2-50c78f851fe4"
      },
      "execution_count": null,
      "outputs": [
        {
          "output_type": "stream",
          "name": "stdout",
          "text": [
            "Duplicate datas:\n",
            "\n",
            "0\n"
          ]
        }
      ]
    },
    {
      "cell_type": "code",
      "source": [
        "# Print datatypes\n",
        "print(\"Data Types:\\n\")\n",
        "print(cars_data.dtypes)"
      ],
      "metadata": {
        "colab": {
          "base_uri": "https://localhost:8080/"
        },
        "id": "JKA27DSHeeHq",
        "outputId": "6c256bc6-c767-4ca4-8980-6aee99bd32bd"
      },
      "execution_count": null,
      "outputs": [
        {
          "output_type": "stream",
          "name": "stdout",
          "text": [
            "Data Types:\n",
            "\n",
            "Company Names                object\n",
            "Cars Names                   object\n",
            "Engines                      object\n",
            "CC/Battery Capacity          object\n",
            "HorsePower                   object\n",
            "Total Speed                  object\n",
            "Performance(0 - 100 )KM/H    object\n",
            "Cars Prices                  object\n",
            "Fuel Types                   object\n",
            "Seats                        object\n",
            "Torque                       object\n",
            "dtype: object\n"
          ]
        }
      ]
    },
    {
      "cell_type": "code",
      "source": [
        "#Identify the number of rows and columns in the dataset.\n",
        "row=len(cars_data.index)\n",
        "print(f\"no of row = {row}.\")\n",
        "columns=len(cars_data.columns)\n",
        "print(f\"no of columns = {columns}.\")"
      ],
      "metadata": {
        "colab": {
          "base_uri": "https://localhost:8080/"
        },
        "id": "6zbqnkx_ef1P",
        "outputId": "49c06eb7-1830-414c-a923-0c4ac0b51a77"
      },
      "execution_count": null,
      "outputs": [
        {
          "output_type": "stream",
          "name": "stdout",
          "text": [
            "no of row = 1201.\n",
            "no of columns = 11.\n"
          ]
        }
      ]
    },
    {
      "cell_type": "code",
      "source": [
        "# Cleaning Column data\n",
        "# Clean 'CC/Battery Capacity' column\n",
        "cars_data['CC/Battery Capacity'] = cars_data['CC/Battery Capacity'].astype(str).str.replace(r'[^\\d.]', '', regex=True)\n",
        "cars_data['CC/Battery Capacity'] = pd.to_numeric(cars_data['CC/Battery Capacity'], errors='coerce')\n",
        "\n",
        "# Clean 'HorsePower' column\n",
        "cars_data['HorsePower'] = cars_data['HorsePower'].astype(str).str.replace(r'[^\\d.]', '', regex=True)\n",
        "cars_data['HorsePower'] = pd.to_numeric(cars_data['HorsePower'], errors='coerce')\n",
        "\n",
        "# Clean 'Cars Prices' column\n",
        "cars_data['Cars Prices'] = cars_data['Cars Prices'].astype(str).str.replace(r'[^\\d.]', '', regex=True)\n",
        "cars_data['Cars Prices'] = pd.to_numeric(cars_data['Cars Prices'], errors='coerce')\n"
      ],
      "metadata": {
        "id": "609-BagV7kOL"
      },
      "execution_count": null,
      "outputs": []
    },
    {
      "cell_type": "code",
      "source": [
        "# Identify numeric columns\n",
        "numeric_cols = cars_data.select_dtypes(include=np.number).columns\n",
        "\n",
        "# Handle missing values (fill with mean for numeric columns only)\n",
        "cars_data[numeric_cols] = cars_data[numeric_cols].fillna(cars_data[numeric_cols].mean())\n",
        "\n",
        "print(\"\\nSummary Statistics:\")\n",
        "print(cars_data.describe())"
      ],
      "metadata": {
        "colab": {
          "base_uri": "https://localhost:8080/"
        },
        "id": "C_IQNaGj7q-U",
        "outputId": "141b96be-6aa9-46ee-db30-513111cf89ab"
      },
      "execution_count": null,
      "outputs": [
        {
          "output_type": "stream",
          "name": "stdout",
          "text": [
            "\n",
            "Summary Statistics:\n",
            "       CC/Battery Capacity     HorsePower   Cars Prices\n",
            "count         1.201000e+03    1201.000000  1.201000e+03\n",
            "mean          1.591956e+07   10927.333056  4.196559e+10\n",
            "std           1.726258e+08   44976.431817  1.442766e+12\n",
            "min           1.240000e+00      26.000000  4.000000e+03\n",
            "25%           1.597000e+03     170.000000  3.390000e+04\n",
            "50%           2.498000e+03     290.000000  5.500000e+04\n",
            "75%           3.996000e+03     453.000000  1.500000e+05\n",
            "max           1.999430e+09  450475.000000  5.000001e+13\n"
          ]
        }
      ]
    },
    {
      "cell_type": "code",
      "source": [
        "#  Data visualizations and charts.\n",
        "plt.figure(figsize=(10, 6))\n",
        "plt.scatter(cars_data['HorsePower'], cars_data['Cars Prices'])\n",
        "plt.title('Scatter Plot of HorsePower vs. Car Prices')\n",
        "plt.xlabel('HorsePower')\n",
        "plt.ylabel('Car Prices')\n",
        "plt.show()\n",
        "# Insight: Positive correlation between horsepower and car prices.\n",
        "\n",
        "plt.figure(figsize=(10, 6))\n",
        "plt.hist(cars_data['Cars Prices'], bins=30)\n",
        "plt.title('Histogram of Car Prices')\n",
        "plt.xlabel('Car Prices')\n",
        "plt.ylabel('Frequency')\n",
        "plt.show()\n",
        "# Insight: Distribution of car prices is right-skewed.\n",
        "\n",
        "# Correlation Plot\n",
        "plt.figure(figsize=(12, 8))\n",
        "sns.heatmap(cars_data[numeric_cols].corr(), annot=True, cmap='coolwarm')\n",
        "plt.title('Correlation Heatmap of Numeric Features')\n",
        "plt.show()\n",
        "# Insight: Shows the correlation coefficients between numeric features.\n"
      ],
      "metadata": {
        "colab": {
          "base_uri": "https://localhost:8080/",
          "height": 1000
        },
        "id": "75alDqX074UJ",
        "outputId": "9a6707c5-1813-425e-de44-a2ce6ddb7e5a"
      },
      "execution_count": null,
      "outputs": [
        {
          "output_type": "display_data",
          "data": {
            "text/plain": [
              "<Figure size 1000x600 with 1 Axes>"
            ],
            "image/png": "[encoded data removed]"
          },
          "metadata": {}
        },
        {
          "output_type": "display_data",
          "data": {
            "text/plain": [
              "<Figure size 1000x600 with 1 Axes>"
            ],
            "image/png": "[encoded data removed]"
          },
          "metadata": {}
        },
        {
          "output_type": "display_data",
          "data": {
            "text/plain": [
              "<Figure size 1200x800 with 2 Axes>"
            ],
            "image/png": "[encoded data removed]"
          },
          "metadata": {}
        }
      ]
    },
    {
      "cell_type": "code",
      "source": [
        "# Features and Target\n",
        "X = cars_data[['HorsePower', 'CC/Battery Capacity']]\n",
        "y = cars_data['Cars Prices']\n",
        "\n",
        "# Split Data into Train/Test Sets\n",
        "X_train, X_test, y_train, y_test = train_test_split(X, y, test_size=0.2, random_state=42)\n",
        "\n",
        "# Scale Features\n",
        "scaler = StandardScaler()\n",
        "X_train_scaled = scaler.fit_transform(X_train)\n",
        "X_test_scaled = scaler.transform(X_test)"
      ],
      "metadata": {
        "id": "cdsnHFZX75nR"
      },
      "execution_count": null,
      "outputs": []
    },
    {
      "cell_type": "code",
      "source": [
        "# Model 1: Linear Regression (Built from Scratch)\n",
        "class CustomLinearRegression:\n",
        "    def __init__(self):\n",
        "        self.weights = None\n",
        "        self.bias = None\n",
        "\n",
        "    def fit(self, X, y):\n",
        "        # Adding a column of ones for the bias term\n",
        "        X = np.concatenate((np.ones((X.shape[0], 1)), X), axis=1)\n",
        "        # Using the normal equation to find the weights\n",
        "        self.weights = np.linalg.solve(X.T @ X, X.T @ y)\n",
        "        self.bias = self.weights[0]\n",
        "        self.weights = self.weights[1:]\n",
        "\n",
        "    def predict(self, X):\n",
        "        return X @ self.weights + self.bias"
      ],
      "metadata": {
        "id": "obAV-sv_79Zq"
      },
      "execution_count": null,
      "outputs": []
    },
    {
      "cell_type": "code",
      "source": [
        "custom_model = CustomLinearRegression()\n",
        "custom_model.fit(X_train_scaled, y_train)\n",
        "pred_custom = custom_model.predict(X_test_scaled)\n",
        "\n",
        "print(\"\\nModel Built from Scratch (Linear Regression) Performance:\\n\")\n",
        "print(\"Mean Squared Error:\\n\", mean_squared_error(y_test, pred_custom))\n",
        "print(\"R2 Score:\\n\", r2_score(y_test, pred_custom))"
      ],
      "metadata": {
        "colab": {
          "base_uri": "https://localhost:8080/"
        },
        "id": "SSteT_Cg8Ivv",
        "outputId": "534b7859-03d9-49aa-dd53-169bab842357"
      },
      "execution_count": null,
      "outputs": [
        {
          "output_type": "stream",
          "name": "stdout",
          "text": [
            "\n",
            "Model Built from Scratch (Linear Regression) Performance:\n",
            "\n",
            "Mean Squared Error:\n",
            " 2.863455420325073e+21\n",
            "R2 Score:\n",
            " -3676.208739956384\n"
          ]
        }
      ]
    },
    {
      "cell_type": "code",
      "source": [
        "#Build a Primary Model\n",
        "# Model 1: Linear Regression\n",
        "model_1 = LinearRegression()\n",
        "model_1.fit(X_train_scaled, y_train)\n",
        "pred_1 = model_1.predict(X_test_scaled)\n",
        "print(\"\\nModel 1 (Linear Regression) Performance:\\n\")\n",
        "print(\"Mean Absolute Error:\\n\", mean_absolute_error(y_test, pred_1))\n",
        "print(\"Root Mean Squared Error:\\n\", np.sqrt(mean_squared_error(y_test, pred_1)))\n",
        "print(\"R2 Score:\\n\", r2_score(y_test, pred_1))"
      ],
      "metadata": {
        "colab": {
          "base_uri": "https://localhost:8080/"
        },
        "id": "1Bfzk8li8KxX",
        "outputId": "bc4e4e9d-4aed-4775-c0cb-a61341ab53a7"
      },
      "execution_count": null,
      "outputs": [
        {
          "output_type": "stream",
          "name": "stdout",
          "text": [
            "\n",
            "Model 1 (Linear Regression) Performance:\n",
            "\n",
            "Mean Absolute Error:\n",
            " 52372930685.00022\n",
            "Root Mean Squared Error:\n",
            " 53511264424.65244\n",
            "R2 Score:\n",
            " -3676.2087399563843\n"
          ]
        }
      ]
    },
    {
      "cell_type": "code",
      "source": [
        "# Model 2: Ridge Regression\n",
        "model_2 = Ridge()\n",
        "model_2.fit(X_train_scaled, y_train)\n",
        "pred_2 = model_2.predict(X_test_scaled)\n",
        "print(\"\\nModel 2 (Ridge Regression) Performance:\\n\")\n",
        "print(\"Mean Absolute Error:\\n\", mean_absolute_error(y_test, pred_2))\n",
        "print(\"Root Mean Squared Error:\\n\", np.sqrt(mean_squared_error(y_test, pred_2)))\n",
        "print(\"R2 Score:\\n\", r2_score(y_test, pred_2))"
      ],
      "metadata": {
        "colab": {
          "base_uri": "https://localhost:8080/"
        },
        "id": "y3u7l5dn8Oe-",
        "outputId": "bf1a51c4-aa6c-435e-a1e5-48639bfdda51"
      },
      "execution_count": null,
      "outputs": [
        {
          "output_type": "stream",
          "name": "stdout",
          "text": [
            "\n",
            "Model 2 (Ridge Regression) Performance:\n",
            "\n",
            "Mean Absolute Error:\n",
            " 52368788081.63936\n",
            "Root Mean Squared Error:\n",
            " 53507644408.729805\n",
            "R2 Score:\n",
            " -3675.711233344574\n"
          ]
        }
      ]
    },
    {
      "cell_type": "code",
      "source": [
        "# Hyper-parameter Optimization with Cross-Validation\n",
        "# Apply a cross-validation technique to find the optimal values of the selected hyperparameters.\n",
        "# Linear Regression has no hyperparameters to tune (in the typical sense).\n",
        "ridge_params = {'alpha': [0.01, 0.1, 1, 10]}\n",
        "grid_search = GridSearchCV(Ridge(), ridge_params, cv=5, scoring='neg_mean_squared_error')\n",
        "grid_search.fit(X_train_scaled, y_train)\n",
        "\n",
        "print(\"\\nBest Hyperparameters for Ridge Regression:\\n\", grid_search.best_params_)"
      ],
      "metadata": {
        "colab": {
          "base_uri": "https://localhost:8080/"
        },
        "id": "wvbgMdAm8XOm",
        "outputId": "7793ac53-4245-48b9-c911-fecc6465bc87"
      },
      "execution_count": null,
      "outputs": [
        {
          "output_type": "stream",
          "name": "stdout",
          "text": [
            "\n",
            "Best Hyperparameters for Ridge Regression:\n",
            " {'alpha': 10}\n"
          ]
        }
      ]
    },
    {
      "cell_type": "code",
      "source": [
        "best_ridge_model = grid_search.best_estimator_\n",
        "pred_ridge_best = best_ridge_model.predict(X_test_scaled)\n",
        "\n",
        "print(\"\\nRidge Regression Performance with Best Hyperparameters:\\n\")\n",
        "print(\"Mean Absolute Error:\\n\", mean_absolute_error(y_test, pred_ridge_best))\n",
        "print(\"Root Mean Squared Error:\\n\", np.sqrt(mean_squared_error(y_test, pred_ridge_best)))\n",
        "print(\"R2 Score:\\n\", r2_score(y_test, pred_ridge_best))"
      ],
      "metadata": {
        "colab": {
          "base_uri": "https://localhost:8080/"
        },
        "id": "2HZVK_UZ8fE_",
        "outputId": "aa779f4c-e0d6-48ed-c6cb-753fcb9f04b5"
      },
      "execution_count": null,
      "outputs": [
        {
          "output_type": "stream",
          "name": "stdout",
          "text": [
            "\n",
            "Ridge Regression Performance with Best Hyperparameters:\n",
            "\n",
            "Mean Absolute Error:\n",
            " 52331885389.00546\n",
            "Root Mean Squared Error:\n",
            " 53475591477.45375\n",
            "R2 Score:\n",
            " -3671.3075980936005\n"
          ]
        }
      ]
    },
    {
      "cell_type": "code",
      "source": [
        "# Feature Selection\n",
        "# Apply SelectKbest  Selection method\n",
        "selector = SelectKBest(score_func=f_regression, k=1)\n",
        "X_train_selected = selector.fit_transform(X_train_scaled, y_train)\n",
        "X_test_selected = selector.transform(X_test_scaled)\n",
        "\n",
        "selected_features_indices = selector.get_support(indices=True)\n",
        "selected_features = X.columns[selected_features_indices]\n",
        "\n",
        "print(\"\\nSelected Feature:\\n\", selected_features)"
      ],
      "metadata": {
        "colab": {
          "base_uri": "https://localhost:8080/"
        },
        "id": "B0GiunLw8htT",
        "outputId": "4422b5c5-7c15-4aa3-9ecc-ec8df43bfacd"
      },
      "execution_count": null,
      "outputs": [
        {
          "output_type": "stream",
          "name": "stdout",
          "text": [
            "\n",
            "Selected Feature:\n",
            " Index(['HorsePower'], dtype='object')\n"
          ]
        }
      ]
    },
    {
      "cell_type": "code",
      "source": [
        "# Final Model\n",
        "# Rebuild both models from Task - 3 using the optimal hyperparameters and selected features\n",
        "model_1_final = LinearRegression()\n",
        "model_1_final.fit(X_train_selected, y_train)\n",
        "pred_1_final = model_1_final.predict(X_test_selected)\n",
        "\n",
        "print(\"\\nFinal Model (Linear Regression) Performance:\\n\")\n",
        "print(\"Mean Absolute Error:\\n\", mean_absolute_error(y_test, pred_1_final))\n",
        "print(\"Root Mean Squared Error:\\n\", np.sqrt(mean_squared_error(y_test, pred_1_final)))\n",
        "print(\"R2 Score:\\n\", r2_score(y_test, pred_1_final))"
      ],
      "metadata": {
        "colab": {
          "base_uri": "https://localhost:8080/"
        },
        "id": "KTjy7UKp8ptf",
        "outputId": "2da14953-874d-41b6-d2f5-c6d757fe9766"
      },
      "execution_count": null,
      "outputs": [
        {
          "output_type": "stream",
          "name": "stdout",
          "text": [
            "\n",
            "Final Model (Linear Regression) Performance:\n",
            "\n",
            "Mean Absolute Error:\n",
            " 52786206618.97856\n",
            "Root Mean Squared Error:\n",
            " 53547066820.80463\n",
            "R2 Score:\n",
            " -3681.1309531569696\n"
          ]
        }
      ]
    },
    {
      "cell_type": "code",
      "source": [
        "model_2_final = Ridge(alpha=grid_search.best_params_['alpha'])\n",
        "model_2_final.fit(X_train_selected, y_train)\n",
        "pred_2_final = model_2_final.predict(X_test_selected)\n",
        "\n",
        "print(\"\\nFinal Model (Ridge Regression) Performance:\\n\")\n",
        "print(\"Mean Absolute Error:\\n\", mean_absolute_error(y_test, pred_2_final))\n",
        "print(\"Root Mean Squared Error:\\n\", np.sqrt(mean_squared_error(y_test, pred_2_final)))\n",
        "print(\"R2 Score:\\n\", r2_score(y_test, pred_2_final))"
      ],
      "metadata": {
        "colab": {
          "base_uri": "https://localhost:8080/"
        },
        "id": "L9k6pKlA9de5",
        "outputId": "d53c67f3-b3ed-4aad-a38e-95a71ef1a486"
      },
      "execution_count": null,
      "outputs": [
        {
          "output_type": "stream",
          "name": "stdout",
          "text": [
            "\n",
            "Final Model (Ridge Regression) Performance:\n",
            "\n",
            "Mean Absolute Error:\n",
            " 52758454471.84701\n",
            "Root Mean Squared Error:\n",
            " 53519657995.23034\n",
            "R2 Score:\n",
            " -3677.3624159943492\n"
          ]
        }
      ]
    },
    {
      "cell_type": "code",
      "source": [
        "# Visualizing Results\n",
        "plt.figure(figsize=(10, 6))\n",
        "plt.scatter(range(len(y_test)), y_test, label=\"Actual Values\", color=\"blue\")\n",
        "plt.scatter(range(len(pred_1_final)), pred_1_final, label=\"Linear Regression Predictions\", color=\"green\")\n",
        "plt.scatter(range(len(pred_2_final)), pred_2_final, label=\"Ridge Predictions\", color=\"red\")\n",
        "plt.legend()\n",
        "plt.title(\"Regression Predictions vs Actual Values (Final Models)\")\n",
        "plt.xlabel(\"Sample Index\")\n",
        "plt.ylabel(\"Cars Prices\")\n",
        "plt.show()\n"
      ],
      "metadata": {
        "colab": {
          "base_uri": "https://localhost:8080/",
          "height": 564
        },
        "id": "fDX-i_tNzAbZ",
        "outputId": "c646cc3f-a01f-4e55-bc3c-e176291f9aef"
      },
      "execution_count": null,
      "outputs": [
        {
          "output_type": "display_data",
          "data": {
            "text/plain": [
              "<Figure size 1000x600 with 1 Axes>"
            ],
            "image/png": "[encoded data removed]"
          },
          "metadata": {}
        }
      ]
    }
  ]
}